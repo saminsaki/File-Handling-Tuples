{
 "cells": [
  {
   "cell_type": "markdown",
   "id": "a10b731a",
   "metadata": {},
   "source": [
    "<div style=\"color: white;padding-top:18px;text-align:center;background-color:#610C9F;border-radius:15px;border: 1px solid white;\"> \n",
    "    <h3>Exercise 11 (score:350\n",
    "    )</h3>\n",
    "</div>"
   ]
  },
  {
   "cell_type": "markdown",
   "id": "71b26783",
   "metadata": {},
   "source": [
    "<div style=\"color: white;padding-top:18px;text-align:left;background-color:#940B92;border-radius:15px;border: 1px solid white;\"> \n",
    "    <h4>Question 01 (Tuple):</h4>\n",
    "    <p> Create a Python program with below details:\n",
    "Input a count of students. \n",
    "Collect each student's unique ID, name, and score into tuples. \n",
    "Store these tuples in a list. \n",
    "Input a name to search the list. \n",
    "Display the matching student's details, if found..\n",
    "\n",
    "</p>\n",
    "</div>"
   ]
  },
  {
   "cell_type": "code",
   "execution_count": 14,
   "id": "45ae809b",
   "metadata": {},
   "outputs": [],
   "source": [
    "# write code here:\n",
    "def collect_student_data(num_students):\n",
    "    students_list = []\n",
    "    student_ids = set()\n",
    "    \n",
    "    for _ in range(num_students):\n",
    "        \n",
    "        while True:\n",
    "            student_id = input(\"Enter the student unique ID:\")\n",
    "            if student_id in student_ids:\n",
    "                print(\"This ID is alread taken. please enter a unqiue ID\")\n",
    "            else:\n",
    "                student_ids.add(student_id)\n",
    "                break\n",
    "        name = input(\"Enter the student's name:\")\n",
    "        score = float(input(\"Enter the students score:\"))\n",
    "        students_list.append((student_id, name, score))\n",
    "    return students_list\n"
   ]
  },
  {
   "cell_type": "code",
   "execution_count": 17,
   "id": "ad3ffe45",
   "metadata": {},
   "outputs": [],
   "source": [
    "def find_student(students_list, name_to_search):\n",
    "    for student in students_list:\n",
    "        if student[1].lower() == name_to_search.lower():\n",
    "            return student"
   ]
  },
  {
   "cell_type": "code",
   "execution_count": 18,
   "id": "b25fa2a5",
   "metadata": {},
   "outputs": [
    {
     "name": "stdin",
     "output_type": "stream",
     "text": [
      "Enter the count of students: 1\n",
      "Enter the student unique ID: 1212\n",
      "Enter the student's name: Mohammad\n",
      "Enter the students score: 13\n",
      "Enter a name to search:  Mohammad\n"
     ]
    },
    {
     "name": "stdout",
     "output_type": "stream",
     "text": [
      "Matching student's details: ID: 1212, Name: Mohammad, Score: 13.0\n"
     ]
    }
   ],
   "source": [
    "num_students = int(input(\"Enter the count of students:\"))\n",
    "students_list = collect_student_data(num_students)\n",
    "\n",
    "name_to_search = input(\"Enter a name to search: \")\n",
    "matching_student = find_student(students_list, name_to_search)\n",
    "                                \n",
    "\n",
    "if matching_student:\n",
    "    print(f\"Matching student's details: ID: {matching_student[0]}, Name: {matching_student[1]}, Score: {matching_student[2]}\")\n",
    "else:\n",
    "    print(\"No matching student found\")\n",
    "                         "
   ]
  },
  {
   "cell_type": "markdown",
   "id": "2fbdc3f0",
   "metadata": {},
   "source": [
    "<div style=\"color: white;padding-top:18px;text-align:left;background-color:#940B92;border-radius:15px;border: 1px solid white;\"> \n",
    "    <h4>Question 02 (Set)</h4>\n",
    "<p>\n",
    "Given two lists: list1 = [1, 2, 3, 4, 5, 6, 6, 7] and list2 = [5, 6, 7, 8, 9], write a \n",
    "program to create a list that contains only the unique elements from \n",
    "both list1 and list2. (using set)\n",
    "</p>\n"
   ]
  },
  {
   "cell_type": "code",
   "execution_count": 21,
   "id": "d48cf578",
   "metadata": {},
   "outputs": [
    {
     "name": "stdout",
     "output_type": "stream",
     "text": [
      "[1, 2, 3, 4, 5, 6, 7, 8, 9]\n"
     ]
    }
   ],
   "source": [
    "# write code here:\n",
    "list1 = [1,2,3,4,5,6,6,7]\n",
    "list2 = [5,6,7,8,9]\n",
    "\n",
    "unique_elements = set(list1)|set(list2)\n",
    "unique_list = list(unique_elements)\n",
    "print(unique_list)"
   ]
  },
  {
   "cell_type": "code",
   "execution_count": 22,
   "id": "3ba94200",
   "metadata": {},
   "outputs": [
    {
     "name": "stdout",
     "output_type": "stream",
     "text": [
      "[1, 2, 3, 4, 5, 6, 7, 8, 9]\n"
     ]
    }
   ],
   "source": [
    "list1 = [1,2,3,4,5,6,6,7]\n",
    "list2 = [5,6,7,8,9]\n",
    "\n",
    "list3 = list1 + list2\n",
    "list3 = set(list3)\n",
    "list3 = list(list3)\n",
    "print(list3)"
   ]
  },
  {
   "cell_type": "markdown",
   "id": "90fd55f7",
   "metadata": {},
   "source": [
    "<div style=\"color: white;padding-top:18px;text-align:left;background-color:#940B92;border-radius:15px;border: 1px solid white;\"> \n",
    "    <h4>Question 03 (Set)</h4>\n",
    "<p>\n",
    "Given a list items containing strings (filenames with extensions) and \n",
    "integers, write a Python program to extract and display the unique file \n",
    "extensions from the filenames in the list. Non-string items should be \n",
    "ignored.\n",
    "</p>\n",
    "\n",
    "</div>"
   ]
  },
  {
   "cell_type": "code",
   "execution_count": 23,
   "id": "3fb9491c",
   "metadata": {},
   "outputs": [],
   "source": [
    "# write code here:\n",
    "# file1.py\n",
    "def extract_unqiue_extensions(items):\n",
    "    extensions = set()\n",
    "    \n",
    "    for item in items:\n",
    "        if type(item) == str:\n",
    "            parts = item.split('.')\n",
    "            if len(parts)>1:\n",
    "                extensions.add(parts[-1])\n",
    "    return extensions"
   ]
  },
  {
   "cell_type": "code",
   "execution_count": 24,
   "id": "6e66afdf",
   "metadata": {},
   "outputs": [
    {
     "name": "stdout",
     "output_type": "stream",
     "text": [
      "Unqiue extensions: {'py', 'jpg', 'doc', 'zip'}\n"
     ]
    }
   ],
   "source": [
    "# List \n",
    "items = [\"example.py\",\"resume.doc\",\"test.py\",\"image.jpg\",42,\"archive.zip\",99]\n",
    "unqiue_extensions = extract_unqiue_extensions(items)\n",
    "print(\"Unqiue extensions:\",unqiue_extensions)"
   ]
  },
  {
   "cell_type": "markdown",
   "id": "e92b0b5f",
   "metadata": {},
   "source": [
    "<div style=\"color: white;padding-top:18px;text-align:left;background-color:#940B92;border-radius:15px;border: 1px solid white;\"> \n",
    "    <h4>Question 04 (Tuple)</h4>\n",
    "<p>\n",
    " Given dictionary books with book titles and their authors, perform the \n",
    "following:\n",
    "</p>\n",
    "\n",
    "<ul>\n",
    "1.Shallow Copy Experiment:\n",
    "<ul>•Make a shallow copy of books.</ul>\n",
    "<ul>•Add \"Author D\" to \"Book1\" in this copy..</ul>\n",
    "<ul>•Add \"Author D\" to \"Book1\" in this copy.</ul>\n",
    "</ul>\n",
    "<ul>\n",
    "2.Deep Copy Experiment:\n",
    "<ul>•Create a deep copy of books.</ul>\n",
    "<ul>•Add \"Author E\" to \"Book1\" in the deep copy</ul>\n",
    "<ul>•Discuss differences observed between the shallow and deep copy results.</ul>\n",
    "</ul>\n",
    "</div>"
   ]
  },
  {
   "cell_type": "code",
   "execution_count": 25,
   "id": "5a170b3f",
   "metadata": {},
   "outputs": [],
   "source": [
    "# write code here:\n",
    "import copy\n",
    "books = {\n",
    "    \"Book1\": {\"title\": \"Learn Python\", \"authors\": [\"Author A\", \"Author B\"]},\n",
    "    \"Book2\": {\"title\": \"AI Basics\", \"authors\": [\"Author C\"]}\n",
    "}\n",
    "\n",
    "\n"
   ]
  },
  {
   "cell_type": "code",
   "execution_count": 26,
   "id": "61730df1",
   "metadata": {},
   "outputs": [],
   "source": [
    "shallow_books = books.copy()\n",
    "shallow_books[\"Book1\"][\"authors\"].append(\"Author D\")\n",
    "\n",
    "deep_books = copy.deepcopy(books)\n",
    "deep_books[\"Book1\"][\"authors\"].append(Author E\"\")\n"
   ]
  },
  {
   "cell_type": "code",
   "execution_count": 27,
   "id": "fd8c49ae",
   "metadata": {},
   "outputs": [
    {
     "data": {
      "text/plain": [
       "(['Author A', 'Author B', 'Author D'],\n",
       " ['Author A', 'Author B', 'Author D'],\n",
       " ['Author A', 'Author B', 'Author D', 'Author E'])"
      ]
     },
     "execution_count": 27,
     "metadata": {},
     "output_type": "execute_result"
    }
   ],
   "source": [
    "original_books_authors = books[\"Book1\"][\"authors\"]\n",
    "shallow_books_authors = shallow_books[\"Book1\"][\"authors\"]\n",
    "deep_books_authors = deep_books[\"Book1\"][\"authors\"]\n",
    "(original_books_authors,shallow_books_authors,deep_books_authors )"
   ]
  },
  {
   "cell_type": "markdown",
   "id": "18ecb4ea",
   "metadata": {},
   "source": [
    "<div style=\"color: white;padding-top:18px;text-align:center;background-color:#610C9F;border-radius:15px;border: 1px solid white;\"> \n",
    "    <h3>Exercise 12 (score:300)</h3>\n",
    "</div>"
   ]
  },
  {
   "cell_type": "markdown",
   "id": "6516d613",
   "metadata": {},
   "source": [
    "<div style=\"color: white;padding-top:18px;text-align:left;background-color:#940B92;border-radius:15px;border: 1px solid white;\"> \n",
    "    <h4>Question 01 (File Handling)</h4>\n",
    "<p>\n",
    "Write a Python program to analyze text files in a directory structure. You \n",
    "are given a directory named root_folder containing various files (.txt, .py, \n",
    ".pdf, .ipynb) and subfolders. Your program should:\n",
    "</p>\n",
    "<ul>Traverse root_folder to find all .txt files.</ul>\n",
    "<ul>For each .txt file, calculate:</ul>\n",
    "<ul>The number of lines.</ul>\n",
    "<ul>The number of unique words.</ul>\n",
    "<ul>Create and write these details into a new file named text_file_analysis.txt.</ul>\n",
    "</div>"
   ]
  },
  {
   "cell_type": "code",
   "execution_count": 29,
   "id": "b29f9777",
   "metadata": {},
   "outputs": [],
   "source": [
    "import os\n",
    "\n",
    "def find_txt_files(root_folder):\n",
    "    txt_files = []\n",
    "    for folder_name, subfolders, filenames in os.walk(root_folder):\n",
    "        for filename in filenames:\n",
    "            if filename.endswith('.txt'):\n",
    "                txt_files.append(os.path.join(folder_name, filename))\n",
    "    return txt_files\n",
    "    "
   ]
  },
  {
   "cell_type": "code",
   "execution_count": 30,
   "id": "ed47c954",
   "metadata": {},
   "outputs": [],
   "source": [
    "def analyze_text_files(file_path):\n",
    "    with open(file_path,\"r\") as file:\n",
    "        lines = file.readlines()\n",
    "    num_lines = len(lines)\n",
    "    with open(file_path, \"r\") as file:\n",
    "        data = file.read()\n",
    "    unique_words = set(data.split())\n",
    "    num_unique_words = len(unique_words)\n",
    "    return num_lines, num_unique_words"
   ]
  },
  {
   "cell_type": "code",
   "execution_count": 39,
   "id": "e8a7cc5b",
   "metadata": {},
   "outputs": [],
   "source": [
    "def write_analysis_to_file(analysis_result, analysis_file_path):\n",
    "    with open(analysis_file_path, \"w\") as file:\n",
    "        for result in analysis_result:\n",
    "            file_path, num_lines, num_unique_words = result\n",
    "            file.write(f\"{os.path.basename(file_path)} - Lines: {num_lines}, Unique_words: {num_unique_words}\\n\")"
   ]
  },
  {
   "cell_type": "code",
   "execution_count": 33,
   "id": "c2837a2e",
   "metadata": {},
   "outputs": [],
   "source": [
    "path = r\"C:\\Users\\Mohammad\\Desktop\\New folder (5)\"\n",
    "files = find_txt_files(path)"
   ]
  },
  {
   "cell_type": "code",
   "execution_count": 34,
   "id": "b8312e35",
   "metadata": {},
   "outputs": [
    {
     "data": {
      "text/plain": [
       "['C:\\\\Users\\\\Mohammad\\\\Desktop\\\\New folder (5)\\\\A.txt',\n",
       " 'C:\\\\Users\\\\Mohammad\\\\Desktop\\\\New folder (5)\\\\B.txt',\n",
       " 'C:\\\\Users\\\\Mohammad\\\\Desktop\\\\New folder (5)\\\\C.txt']"
      ]
     },
     "execution_count": 34,
     "metadata": {},
     "output_type": "execute_result"
    }
   ],
   "source": [
    "files"
   ]
  },
  {
   "cell_type": "code",
   "execution_count": 36,
   "id": "fcda6a2e",
   "metadata": {},
   "outputs": [],
   "source": [
    "analysis_result = []\n",
    "for file in files:\n",
    "    num_lines, num_unique_words = analyze_text_files(file)\n",
    "    analysis_result.append((file,num_lines,num_unique_words))"
   ]
  },
  {
   "cell_type": "code",
   "execution_count": 37,
   "id": "ffb62ad9",
   "metadata": {},
   "outputs": [
    {
     "data": {
      "text/plain": [
       "[('C:\\\\Users\\\\Mohammad\\\\Desktop\\\\New folder (5)\\\\A.txt', 2, 2),\n",
       " ('C:\\\\Users\\\\Mohammad\\\\Desktop\\\\New folder (5)\\\\B.txt', 0, 0),\n",
       " ('C:\\\\Users\\\\Mohammad\\\\Desktop\\\\New folder (5)\\\\C.txt', 1, 1)]"
      ]
     },
     "execution_count": 37,
     "metadata": {},
     "output_type": "execute_result"
    }
   ],
   "source": [
    "analysis_result"
   ]
  },
  {
   "cell_type": "code",
   "execution_count": 40,
   "id": "cca77d8e",
   "metadata": {},
   "outputs": [],
   "source": [
    "analysis_file_path = os.path.join(path, 'text_file_analysis.txt')\n",
    "write_analysis_to_file(analysis_result, analysis_file_path)"
   ]
  },
  {
   "cell_type": "markdown",
   "id": "535aea82",
   "metadata": {},
   "source": [
    "<div style=\"color: white;padding-top:18px;text-align:left;background-color:#940B92;border-radius:15px;border: 1px solid white;\"> \n",
    "    <h4>Question 02 (File Handling)</h4>\n",
    "<p>\n",
    "Write a program that prompts the user to input a file extension (like \n",
    "\"py\"), then searches the user's Desktop and its subdirectories for all \n",
    "files with that extension. The program should count and display the \n",
    "total number of matching files found.\n",
    "</p>\n",
    "</div>"
   ]
  },
  {
   "cell_type": "code",
   "execution_count": 41,
   "id": "37d8223b",
   "metadata": {},
   "outputs": [],
   "source": [
    "import os\n",
    "\n",
    "def find_files_with_extension(directory, extension):\n",
    "    count = 0\n",
    "    for folder_name, subfolders, filenames in os.walk(directory):\n",
    "        for filename in filenames:\n",
    "            if filename.endswith(f\".{extension}\"):\n",
    "                count +=1\n",
    "                print(count)\n",
    "    return count"
   ]
  },
  {
   "cell_type": "code",
   "execution_count": 42,
   "id": "59c4a781",
   "metadata": {},
   "outputs": [
    {
     "name": "stdin",
     "output_type": "stream",
     "text": [
      "Please enter the file extension(like py): py\n"
     ]
    },
    {
     "name": "stdout",
     "output_type": "stream",
     "text": [
      "1\n",
      "2\n",
      "Total Number of '.py' files found: 2\n"
     ]
    }
   ],
   "source": [
    "extension = input(\"Please enter the file extension(like py):\")\n",
    "desktop_path = os.path.join(os.path.expanduser(\"~\"),\"Desktop\")\n",
    "count = find_files_with_extension(desktop_path,extension)\n",
    "print(f\"Total Number of '.{extension}' files found: {count}\")"
   ]
  }
 ],
 "metadata": {
  "kernelspec": {
   "display_name": "Python 3 (Spyder)",
   "language": "python3",
   "name": "python3"
  },
  "language_info": {
   "codemirror_mode": {
    "name": "ipython",
    "version": 3
   },
   "file_extension": ".py",
   "mimetype": "text/x-python",
   "name": "python",
   "nbconvert_exporter": "python",
   "pygments_lexer": "ipython3",
   "version": "3.10.13"
  }
 },
 "nbformat": 4,
 "nbformat_minor": 5
}
